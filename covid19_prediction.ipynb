{
 "cells": [
  {
   "cell_type": "code",
   "execution_count": 6,
   "id": "88aa98fb",
   "metadata": {},
   "outputs": [],
   "source": [
    "import numpy as np\n",
    "import pandas as pd\n",
    "import matplotlib.pyplot as plt"
   ]
  },
  {
   "cell_type": "code",
   "execution_count": 3,
   "id": "223fc20e",
   "metadata": {},
   "outputs": [
    {
     "data": {
      "text/html": [
       "<div>\n",
       "<style scoped>\n",
       "    .dataframe tbody tr th:only-of-type {\n",
       "        vertical-align: middle;\n",
       "    }\n",
       "\n",
       "    .dataframe tbody tr th {\n",
       "        vertical-align: top;\n",
       "    }\n",
       "\n",
       "    .dataframe thead th {\n",
       "        text-align: right;\n",
       "    }\n",
       "</style>\n",
       "<table border=\"1\" class=\"dataframe\">\n",
       "  <thead>\n",
       "    <tr style=\"text-align: right;\">\n",
       "      <th></th>\n",
       "      <th>iso_code</th>\n",
       "      <th>continent</th>\n",
       "      <th>location</th>\n",
       "      <th>date</th>\n",
       "      <th>total_cases</th>\n",
       "      <th>new_cases</th>\n",
       "      <th>new_cases_smoothed</th>\n",
       "      <th>total_deaths</th>\n",
       "      <th>new_deaths</th>\n",
       "      <th>new_deaths_smoothed</th>\n",
       "      <th>...</th>\n",
       "      <th>gdp_per_capita</th>\n",
       "      <th>extreme_poverty</th>\n",
       "      <th>cardiovasc_death_rate</th>\n",
       "      <th>diabetes_prevalence</th>\n",
       "      <th>female_smokers</th>\n",
       "      <th>male_smokers</th>\n",
       "      <th>handwashing_facilities</th>\n",
       "      <th>hospital_beds_per_thousand</th>\n",
       "      <th>life_expectancy</th>\n",
       "      <th>human_development_index</th>\n",
       "    </tr>\n",
       "  </thead>\n",
       "  <tbody>\n",
       "    <tr>\n",
       "      <th>0</th>\n",
       "      <td>AFG</td>\n",
       "      <td>Asia</td>\n",
       "      <td>Afghanistan</td>\n",
       "      <td>2020-02-24</td>\n",
       "      <td>1.0</td>\n",
       "      <td>1.0</td>\n",
       "      <td>NaN</td>\n",
       "      <td>NaN</td>\n",
       "      <td>NaN</td>\n",
       "      <td>NaN</td>\n",
       "      <td>...</td>\n",
       "      <td>1803.987</td>\n",
       "      <td>NaN</td>\n",
       "      <td>597.029</td>\n",
       "      <td>9.59</td>\n",
       "      <td>NaN</td>\n",
       "      <td>NaN</td>\n",
       "      <td>37.746</td>\n",
       "      <td>0.5</td>\n",
       "      <td>64.83</td>\n",
       "      <td>0.511</td>\n",
       "    </tr>\n",
       "    <tr>\n",
       "      <th>1</th>\n",
       "      <td>AFG</td>\n",
       "      <td>Asia</td>\n",
       "      <td>Afghanistan</td>\n",
       "      <td>2020-02-25</td>\n",
       "      <td>1.0</td>\n",
       "      <td>0.0</td>\n",
       "      <td>NaN</td>\n",
       "      <td>NaN</td>\n",
       "      <td>NaN</td>\n",
       "      <td>NaN</td>\n",
       "      <td>...</td>\n",
       "      <td>1803.987</td>\n",
       "      <td>NaN</td>\n",
       "      <td>597.029</td>\n",
       "      <td>9.59</td>\n",
       "      <td>NaN</td>\n",
       "      <td>NaN</td>\n",
       "      <td>37.746</td>\n",
       "      <td>0.5</td>\n",
       "      <td>64.83</td>\n",
       "      <td>0.511</td>\n",
       "    </tr>\n",
       "    <tr>\n",
       "      <th>2</th>\n",
       "      <td>AFG</td>\n",
       "      <td>Asia</td>\n",
       "      <td>Afghanistan</td>\n",
       "      <td>2020-02-26</td>\n",
       "      <td>1.0</td>\n",
       "      <td>0.0</td>\n",
       "      <td>NaN</td>\n",
       "      <td>NaN</td>\n",
       "      <td>NaN</td>\n",
       "      <td>NaN</td>\n",
       "      <td>...</td>\n",
       "      <td>1803.987</td>\n",
       "      <td>NaN</td>\n",
       "      <td>597.029</td>\n",
       "      <td>9.59</td>\n",
       "      <td>NaN</td>\n",
       "      <td>NaN</td>\n",
       "      <td>37.746</td>\n",
       "      <td>0.5</td>\n",
       "      <td>64.83</td>\n",
       "      <td>0.511</td>\n",
       "    </tr>\n",
       "    <tr>\n",
       "      <th>3</th>\n",
       "      <td>AFG</td>\n",
       "      <td>Asia</td>\n",
       "      <td>Afghanistan</td>\n",
       "      <td>2020-02-27</td>\n",
       "      <td>1.0</td>\n",
       "      <td>0.0</td>\n",
       "      <td>NaN</td>\n",
       "      <td>NaN</td>\n",
       "      <td>NaN</td>\n",
       "      <td>NaN</td>\n",
       "      <td>...</td>\n",
       "      <td>1803.987</td>\n",
       "      <td>NaN</td>\n",
       "      <td>597.029</td>\n",
       "      <td>9.59</td>\n",
       "      <td>NaN</td>\n",
       "      <td>NaN</td>\n",
       "      <td>37.746</td>\n",
       "      <td>0.5</td>\n",
       "      <td>64.83</td>\n",
       "      <td>0.511</td>\n",
       "    </tr>\n",
       "    <tr>\n",
       "      <th>4</th>\n",
       "      <td>AFG</td>\n",
       "      <td>Asia</td>\n",
       "      <td>Afghanistan</td>\n",
       "      <td>2020-02-28</td>\n",
       "      <td>1.0</td>\n",
       "      <td>0.0</td>\n",
       "      <td>NaN</td>\n",
       "      <td>NaN</td>\n",
       "      <td>NaN</td>\n",
       "      <td>NaN</td>\n",
       "      <td>...</td>\n",
       "      <td>1803.987</td>\n",
       "      <td>NaN</td>\n",
       "      <td>597.029</td>\n",
       "      <td>9.59</td>\n",
       "      <td>NaN</td>\n",
       "      <td>NaN</td>\n",
       "      <td>37.746</td>\n",
       "      <td>0.5</td>\n",
       "      <td>64.83</td>\n",
       "      <td>0.511</td>\n",
       "    </tr>\n",
       "    <tr>\n",
       "      <th>...</th>\n",
       "      <td>...</td>\n",
       "      <td>...</td>\n",
       "      <td>...</td>\n",
       "      <td>...</td>\n",
       "      <td>...</td>\n",
       "      <td>...</td>\n",
       "      <td>...</td>\n",
       "      <td>...</td>\n",
       "      <td>...</td>\n",
       "      <td>...</td>\n",
       "      <td>...</td>\n",
       "      <td>...</td>\n",
       "      <td>...</td>\n",
       "      <td>...</td>\n",
       "      <td>...</td>\n",
       "      <td>...</td>\n",
       "      <td>...</td>\n",
       "      <td>...</td>\n",
       "      <td>...</td>\n",
       "      <td>...</td>\n",
       "      <td>...</td>\n",
       "    </tr>\n",
       "    <tr>\n",
       "      <th>73991</th>\n",
       "      <td>ZWE</td>\n",
       "      <td>Africa</td>\n",
       "      <td>Zimbabwe</td>\n",
       "      <td>2021-03-06</td>\n",
       "      <td>36260.0</td>\n",
       "      <td>12.0</td>\n",
       "      <td>28.857</td>\n",
       "      <td>1485.0</td>\n",
       "      <td>1.0</td>\n",
       "      <td>3.143</td>\n",
       "      <td>...</td>\n",
       "      <td>1899.775</td>\n",
       "      <td>21.4</td>\n",
       "      <td>307.846</td>\n",
       "      <td>1.82</td>\n",
       "      <td>1.6</td>\n",
       "      <td>30.7</td>\n",
       "      <td>36.791</td>\n",
       "      <td>1.7</td>\n",
       "      <td>61.49</td>\n",
       "      <td>0.571</td>\n",
       "    </tr>\n",
       "    <tr>\n",
       "      <th>73992</th>\n",
       "      <td>ZWE</td>\n",
       "      <td>Africa</td>\n",
       "      <td>Zimbabwe</td>\n",
       "      <td>2021-03-07</td>\n",
       "      <td>36271.0</td>\n",
       "      <td>11.0</td>\n",
       "      <td>26.000</td>\n",
       "      <td>1485.0</td>\n",
       "      <td>0.0</td>\n",
       "      <td>3.143</td>\n",
       "      <td>...</td>\n",
       "      <td>1899.775</td>\n",
       "      <td>21.4</td>\n",
       "      <td>307.846</td>\n",
       "      <td>1.82</td>\n",
       "      <td>1.6</td>\n",
       "      <td>30.7</td>\n",
       "      <td>36.791</td>\n",
       "      <td>1.7</td>\n",
       "      <td>61.49</td>\n",
       "      <td>0.571</td>\n",
       "    </tr>\n",
       "    <tr>\n",
       "      <th>73993</th>\n",
       "      <td>ZWE</td>\n",
       "      <td>Africa</td>\n",
       "      <td>Zimbabwe</td>\n",
       "      <td>2021-03-08</td>\n",
       "      <td>36289.0</td>\n",
       "      <td>18.0</td>\n",
       "      <td>24.857</td>\n",
       "      <td>1487.0</td>\n",
       "      <td>2.0</td>\n",
       "      <td>2.714</td>\n",
       "      <td>...</td>\n",
       "      <td>1899.775</td>\n",
       "      <td>21.4</td>\n",
       "      <td>307.846</td>\n",
       "      <td>1.82</td>\n",
       "      <td>1.6</td>\n",
       "      <td>30.7</td>\n",
       "      <td>36.791</td>\n",
       "      <td>1.7</td>\n",
       "      <td>61.49</td>\n",
       "      <td>0.571</td>\n",
       "    </tr>\n",
       "    <tr>\n",
       "      <th>73994</th>\n",
       "      <td>ZWE</td>\n",
       "      <td>Africa</td>\n",
       "      <td>Zimbabwe</td>\n",
       "      <td>2021-03-09</td>\n",
       "      <td>36321.0</td>\n",
       "      <td>32.0</td>\n",
       "      <td>24.714</td>\n",
       "      <td>1489.0</td>\n",
       "      <td>2.0</td>\n",
       "      <td>2.429</td>\n",
       "      <td>...</td>\n",
       "      <td>1899.775</td>\n",
       "      <td>21.4</td>\n",
       "      <td>307.846</td>\n",
       "      <td>1.82</td>\n",
       "      <td>1.6</td>\n",
       "      <td>30.7</td>\n",
       "      <td>36.791</td>\n",
       "      <td>1.7</td>\n",
       "      <td>61.49</td>\n",
       "      <td>0.571</td>\n",
       "    </tr>\n",
       "    <tr>\n",
       "      <th>73995</th>\n",
       "      <td>ZWE</td>\n",
       "      <td>Africa</td>\n",
       "      <td>Zimbabwe</td>\n",
       "      <td>2021-03-10</td>\n",
       "      <td>36341.0</td>\n",
       "      <td>20.0</td>\n",
       "      <td>23.143</td>\n",
       "      <td>1489.0</td>\n",
       "      <td>0.0</td>\n",
       "      <td>1.571</td>\n",
       "      <td>...</td>\n",
       "      <td>1899.775</td>\n",
       "      <td>21.4</td>\n",
       "      <td>307.846</td>\n",
       "      <td>1.82</td>\n",
       "      <td>1.6</td>\n",
       "      <td>30.7</td>\n",
       "      <td>36.791</td>\n",
       "      <td>1.7</td>\n",
       "      <td>61.49</td>\n",
       "      <td>0.571</td>\n",
       "    </tr>\n",
       "  </tbody>\n",
       "</table>\n",
       "<p>73996 rows × 59 columns</p>\n",
       "</div>"
      ],
      "text/plain": [
       "      iso_code continent     location        date  total_cases  new_cases  \\\n",
       "0          AFG      Asia  Afghanistan  2020-02-24          1.0        1.0   \n",
       "1          AFG      Asia  Afghanistan  2020-02-25          1.0        0.0   \n",
       "2          AFG      Asia  Afghanistan  2020-02-26          1.0        0.0   \n",
       "3          AFG      Asia  Afghanistan  2020-02-27          1.0        0.0   \n",
       "4          AFG      Asia  Afghanistan  2020-02-28          1.0        0.0   \n",
       "...        ...       ...          ...         ...          ...        ...   \n",
       "73991      ZWE    Africa     Zimbabwe  2021-03-06      36260.0       12.0   \n",
       "73992      ZWE    Africa     Zimbabwe  2021-03-07      36271.0       11.0   \n",
       "73993      ZWE    Africa     Zimbabwe  2021-03-08      36289.0       18.0   \n",
       "73994      ZWE    Africa     Zimbabwe  2021-03-09      36321.0       32.0   \n",
       "73995      ZWE    Africa     Zimbabwe  2021-03-10      36341.0       20.0   \n",
       "\n",
       "       new_cases_smoothed  total_deaths  new_deaths  new_deaths_smoothed  ...  \\\n",
       "0                     NaN           NaN         NaN                  NaN  ...   \n",
       "1                     NaN           NaN         NaN                  NaN  ...   \n",
       "2                     NaN           NaN         NaN                  NaN  ...   \n",
       "3                     NaN           NaN         NaN                  NaN  ...   \n",
       "4                     NaN           NaN         NaN                  NaN  ...   \n",
       "...                   ...           ...         ...                  ...  ...   \n",
       "73991              28.857        1485.0         1.0                3.143  ...   \n",
       "73992              26.000        1485.0         0.0                3.143  ...   \n",
       "73993              24.857        1487.0         2.0                2.714  ...   \n",
       "73994              24.714        1489.0         2.0                2.429  ...   \n",
       "73995              23.143        1489.0         0.0                1.571  ...   \n",
       "\n",
       "       gdp_per_capita  extreme_poverty  cardiovasc_death_rate  \\\n",
       "0            1803.987              NaN                597.029   \n",
       "1            1803.987              NaN                597.029   \n",
       "2            1803.987              NaN                597.029   \n",
       "3            1803.987              NaN                597.029   \n",
       "4            1803.987              NaN                597.029   \n",
       "...               ...              ...                    ...   \n",
       "73991        1899.775             21.4                307.846   \n",
       "73992        1899.775             21.4                307.846   \n",
       "73993        1899.775             21.4                307.846   \n",
       "73994        1899.775             21.4                307.846   \n",
       "73995        1899.775             21.4                307.846   \n",
       "\n",
       "       diabetes_prevalence  female_smokers  male_smokers  \\\n",
       "0                     9.59             NaN           NaN   \n",
       "1                     9.59             NaN           NaN   \n",
       "2                     9.59             NaN           NaN   \n",
       "3                     9.59             NaN           NaN   \n",
       "4                     9.59             NaN           NaN   \n",
       "...                    ...             ...           ...   \n",
       "73991                 1.82             1.6          30.7   \n",
       "73992                 1.82             1.6          30.7   \n",
       "73993                 1.82             1.6          30.7   \n",
       "73994                 1.82             1.6          30.7   \n",
       "73995                 1.82             1.6          30.7   \n",
       "\n",
       "       handwashing_facilities  hospital_beds_per_thousand  life_expectancy  \\\n",
       "0                      37.746                         0.5            64.83   \n",
       "1                      37.746                         0.5            64.83   \n",
       "2                      37.746                         0.5            64.83   \n",
       "3                      37.746                         0.5            64.83   \n",
       "4                      37.746                         0.5            64.83   \n",
       "...                       ...                         ...              ...   \n",
       "73991                  36.791                         1.7            61.49   \n",
       "73992                  36.791                         1.7            61.49   \n",
       "73993                  36.791                         1.7            61.49   \n",
       "73994                  36.791                         1.7            61.49   \n",
       "73995                  36.791                         1.7            61.49   \n",
       "\n",
       "       human_development_index  \n",
       "0                        0.511  \n",
       "1                        0.511  \n",
       "2                        0.511  \n",
       "3                        0.511  \n",
       "4                        0.511  \n",
       "...                        ...  \n",
       "73991                    0.571  \n",
       "73992                    0.571  \n",
       "73993                    0.571  \n",
       "73994                    0.571  \n",
       "73995                    0.571  \n",
       "\n",
       "[73996 rows x 59 columns]"
      ]
     },
     "execution_count": 3,
     "metadata": {},
     "output_type": "execute_result"
    }
   ],
   "source": [
    "df=pd.read_csv('owid-covid-data.csv')\n",
    "df"
   ]
  },
  {
   "cell_type": "code",
   "execution_count": 4,
   "id": "b6165be0",
   "metadata": {},
   "outputs": [
    {
     "data": {
      "text/plain": [
       "(73996, 59)"
      ]
     },
     "execution_count": 4,
     "metadata": {},
     "output_type": "execute_result"
    }
   ],
   "source": [
    "df.shape"
   ]
  },
  {
   "cell_type": "code",
   "execution_count": 5,
   "id": "f50c27a9",
   "metadata": {},
   "outputs": [
    {
     "name": "stdout",
     "output_type": "stream",
     "text": [
      "Argentina           435\n",
      "Mexico              435\n",
      "Thailand            432\n",
      "Taiwan              420\n",
      "South Korea         415\n",
      "                   ... \n",
      "Falkland Islands     16\n",
      "Montserrat           16\n",
      "Macao                11\n",
      "Northern Cyprus       9\n",
      "Saint Helena          1\n",
      "Name: location, Length: 215, dtype: int64\n"
     ]
    }
   ],
   "source": [
    "print(df['location'].value_counts())"
   ]
  },
  {
   "cell_type": "markdown",
   "id": "7d7af1cd",
   "metadata": {},
   "source": [
    "## Data Cleansing"
   ]
  },
  {
   "cell_type": "code",
   "execution_count": 7,
   "id": "02248ea1",
   "metadata": {},
   "outputs": [],
   "source": [
    "df_ina=df.loc[df['location']=='Indonesia']\n",
    "df_ina=df_ina.reset_index(drop=True)"
   ]
  },
  {
   "cell_type": "code",
   "execution_count": 8,
   "id": "b21dd872",
   "metadata": {},
   "outputs": [
    {
     "data": {
      "text/html": [
       "<div>\n",
       "<style scoped>\n",
       "    .dataframe tbody tr th:only-of-type {\n",
       "        vertical-align: middle;\n",
       "    }\n",
       "\n",
       "    .dataframe tbody tr th {\n",
       "        vertical-align: top;\n",
       "    }\n",
       "\n",
       "    .dataframe thead th {\n",
       "        text-align: right;\n",
       "    }\n",
       "</style>\n",
       "<table border=\"1\" class=\"dataframe\">\n",
       "  <thead>\n",
       "    <tr style=\"text-align: right;\">\n",
       "      <th></th>\n",
       "      <th>iso_code</th>\n",
       "      <th>continent</th>\n",
       "      <th>location</th>\n",
       "      <th>date</th>\n",
       "      <th>total_cases</th>\n",
       "      <th>new_cases</th>\n",
       "      <th>new_cases_smoothed</th>\n",
       "      <th>total_deaths</th>\n",
       "      <th>new_deaths</th>\n",
       "      <th>new_deaths_smoothed</th>\n",
       "      <th>...</th>\n",
       "      <th>gdp_per_capita</th>\n",
       "      <th>extreme_poverty</th>\n",
       "      <th>cardiovasc_death_rate</th>\n",
       "      <th>diabetes_prevalence</th>\n",
       "      <th>female_smokers</th>\n",
       "      <th>male_smokers</th>\n",
       "      <th>handwashing_facilities</th>\n",
       "      <th>hospital_beds_per_thousand</th>\n",
       "      <th>life_expectancy</th>\n",
       "      <th>human_development_index</th>\n",
       "    </tr>\n",
       "  </thead>\n",
       "  <tbody>\n",
       "    <tr>\n",
       "      <th>0</th>\n",
       "      <td>IDN</td>\n",
       "      <td>Asia</td>\n",
       "      <td>Indonesia</td>\n",
       "      <td>2020-03-02</td>\n",
       "      <td>2.0</td>\n",
       "      <td>2.0</td>\n",
       "      <td>NaN</td>\n",
       "      <td>NaN</td>\n",
       "      <td>NaN</td>\n",
       "      <td>NaN</td>\n",
       "      <td>...</td>\n",
       "      <td>11188.744</td>\n",
       "      <td>5.7</td>\n",
       "      <td>342.864</td>\n",
       "      <td>6.32</td>\n",
       "      <td>2.8</td>\n",
       "      <td>76.1</td>\n",
       "      <td>64.204</td>\n",
       "      <td>1.04</td>\n",
       "      <td>71.72</td>\n",
       "      <td>0.718</td>\n",
       "    </tr>\n",
       "    <tr>\n",
       "      <th>1</th>\n",
       "      <td>IDN</td>\n",
       "      <td>Asia</td>\n",
       "      <td>Indonesia</td>\n",
       "      <td>2020-03-03</td>\n",
       "      <td>2.0</td>\n",
       "      <td>0.0</td>\n",
       "      <td>NaN</td>\n",
       "      <td>NaN</td>\n",
       "      <td>NaN</td>\n",
       "      <td>NaN</td>\n",
       "      <td>...</td>\n",
       "      <td>11188.744</td>\n",
       "      <td>5.7</td>\n",
       "      <td>342.864</td>\n",
       "      <td>6.32</td>\n",
       "      <td>2.8</td>\n",
       "      <td>76.1</td>\n",
       "      <td>64.204</td>\n",
       "      <td>1.04</td>\n",
       "      <td>71.72</td>\n",
       "      <td>0.718</td>\n",
       "    </tr>\n",
       "    <tr>\n",
       "      <th>2</th>\n",
       "      <td>IDN</td>\n",
       "      <td>Asia</td>\n",
       "      <td>Indonesia</td>\n",
       "      <td>2020-03-04</td>\n",
       "      <td>2.0</td>\n",
       "      <td>0.0</td>\n",
       "      <td>NaN</td>\n",
       "      <td>NaN</td>\n",
       "      <td>NaN</td>\n",
       "      <td>NaN</td>\n",
       "      <td>...</td>\n",
       "      <td>11188.744</td>\n",
       "      <td>5.7</td>\n",
       "      <td>342.864</td>\n",
       "      <td>6.32</td>\n",
       "      <td>2.8</td>\n",
       "      <td>76.1</td>\n",
       "      <td>64.204</td>\n",
       "      <td>1.04</td>\n",
       "      <td>71.72</td>\n",
       "      <td>0.718</td>\n",
       "    </tr>\n",
       "    <tr>\n",
       "      <th>3</th>\n",
       "      <td>IDN</td>\n",
       "      <td>Asia</td>\n",
       "      <td>Indonesia</td>\n",
       "      <td>2020-03-05</td>\n",
       "      <td>2.0</td>\n",
       "      <td>0.0</td>\n",
       "      <td>NaN</td>\n",
       "      <td>NaN</td>\n",
       "      <td>NaN</td>\n",
       "      <td>NaN</td>\n",
       "      <td>...</td>\n",
       "      <td>11188.744</td>\n",
       "      <td>5.7</td>\n",
       "      <td>342.864</td>\n",
       "      <td>6.32</td>\n",
       "      <td>2.8</td>\n",
       "      <td>76.1</td>\n",
       "      <td>64.204</td>\n",
       "      <td>1.04</td>\n",
       "      <td>71.72</td>\n",
       "      <td>0.718</td>\n",
       "    </tr>\n",
       "    <tr>\n",
       "      <th>4</th>\n",
       "      <td>IDN</td>\n",
       "      <td>Asia</td>\n",
       "      <td>Indonesia</td>\n",
       "      <td>2020-03-06</td>\n",
       "      <td>4.0</td>\n",
       "      <td>2.0</td>\n",
       "      <td>NaN</td>\n",
       "      <td>NaN</td>\n",
       "      <td>NaN</td>\n",
       "      <td>NaN</td>\n",
       "      <td>...</td>\n",
       "      <td>11188.744</td>\n",
       "      <td>5.7</td>\n",
       "      <td>342.864</td>\n",
       "      <td>6.32</td>\n",
       "      <td>2.8</td>\n",
       "      <td>76.1</td>\n",
       "      <td>64.204</td>\n",
       "      <td>1.04</td>\n",
       "      <td>71.72</td>\n",
       "      <td>0.718</td>\n",
       "    </tr>\n",
       "  </tbody>\n",
       "</table>\n",
       "<p>5 rows × 59 columns</p>\n",
       "</div>"
      ],
      "text/plain": [
       "  iso_code continent   location        date  total_cases  new_cases  \\\n",
       "0      IDN      Asia  Indonesia  2020-03-02          2.0        2.0   \n",
       "1      IDN      Asia  Indonesia  2020-03-03          2.0        0.0   \n",
       "2      IDN      Asia  Indonesia  2020-03-04          2.0        0.0   \n",
       "3      IDN      Asia  Indonesia  2020-03-05          2.0        0.0   \n",
       "4      IDN      Asia  Indonesia  2020-03-06          4.0        2.0   \n",
       "\n",
       "   new_cases_smoothed  total_deaths  new_deaths  new_deaths_smoothed  ...  \\\n",
       "0                 NaN           NaN         NaN                  NaN  ...   \n",
       "1                 NaN           NaN         NaN                  NaN  ...   \n",
       "2                 NaN           NaN         NaN                  NaN  ...   \n",
       "3                 NaN           NaN         NaN                  NaN  ...   \n",
       "4                 NaN           NaN         NaN                  NaN  ...   \n",
       "\n",
       "   gdp_per_capita  extreme_poverty  cardiovasc_death_rate  \\\n",
       "0       11188.744              5.7                342.864   \n",
       "1       11188.744              5.7                342.864   \n",
       "2       11188.744              5.7                342.864   \n",
       "3       11188.744              5.7                342.864   \n",
       "4       11188.744              5.7                342.864   \n",
       "\n",
       "   diabetes_prevalence  female_smokers  male_smokers  handwashing_facilities  \\\n",
       "0                 6.32             2.8          76.1                  64.204   \n",
       "1                 6.32             2.8          76.1                  64.204   \n",
       "2                 6.32             2.8          76.1                  64.204   \n",
       "3                 6.32             2.8          76.1                  64.204   \n",
       "4                 6.32             2.8          76.1                  64.204   \n",
       "\n",
       "   hospital_beds_per_thousand  life_expectancy  human_development_index  \n",
       "0                        1.04            71.72                    0.718  \n",
       "1                        1.04            71.72                    0.718  \n",
       "2                        1.04            71.72                    0.718  \n",
       "3                        1.04            71.72                    0.718  \n",
       "4                        1.04            71.72                    0.718  \n",
       "\n",
       "[5 rows x 59 columns]"
      ]
     },
     "execution_count": 8,
     "metadata": {},
     "output_type": "execute_result"
    }
   ],
   "source": [
    "df_ina.head()"
   ]
  },
  {
   "cell_type": "code",
   "execution_count": 9,
   "id": "af656eb0",
   "metadata": {},
   "outputs": [
    {
     "data": {
      "text/html": [
       "<div>\n",
       "<style scoped>\n",
       "    .dataframe tbody tr th:only-of-type {\n",
       "        vertical-align: middle;\n",
       "    }\n",
       "\n",
       "    .dataframe tbody tr th {\n",
       "        vertical-align: top;\n",
       "    }\n",
       "\n",
       "    .dataframe thead th {\n",
       "        text-align: right;\n",
       "    }\n",
       "</style>\n",
       "<table border=\"1\" class=\"dataframe\">\n",
       "  <thead>\n",
       "    <tr style=\"text-align: right;\">\n",
       "      <th></th>\n",
       "      <th>iso_code</th>\n",
       "      <th>continent</th>\n",
       "      <th>location</th>\n",
       "      <th>date</th>\n",
       "      <th>total_cases</th>\n",
       "      <th>new_cases</th>\n",
       "      <th>new_cases_smoothed</th>\n",
       "      <th>total_deaths</th>\n",
       "      <th>new_deaths</th>\n",
       "      <th>new_deaths_smoothed</th>\n",
       "      <th>...</th>\n",
       "      <th>gdp_per_capita</th>\n",
       "      <th>extreme_poverty</th>\n",
       "      <th>cardiovasc_death_rate</th>\n",
       "      <th>diabetes_prevalence</th>\n",
       "      <th>female_smokers</th>\n",
       "      <th>male_smokers</th>\n",
       "      <th>handwashing_facilities</th>\n",
       "      <th>hospital_beds_per_thousand</th>\n",
       "      <th>life_expectancy</th>\n",
       "      <th>human_development_index</th>\n",
       "    </tr>\n",
       "  </thead>\n",
       "  <tbody>\n",
       "    <tr>\n",
       "      <th>369</th>\n",
       "      <td>IDN</td>\n",
       "      <td>Asia</td>\n",
       "      <td>Indonesia</td>\n",
       "      <td>2021-03-06</td>\n",
       "      <td>1373836.0</td>\n",
       "      <td>5767.0</td>\n",
       "      <td>6394.571</td>\n",
       "      <td>37154.0</td>\n",
       "      <td>128.0</td>\n",
       "      <td>167.571</td>\n",
       "      <td>...</td>\n",
       "      <td>11188.744</td>\n",
       "      <td>5.7</td>\n",
       "      <td>342.864</td>\n",
       "      <td>6.32</td>\n",
       "      <td>2.8</td>\n",
       "      <td>76.1</td>\n",
       "      <td>64.204</td>\n",
       "      <td>1.04</td>\n",
       "      <td>71.72</td>\n",
       "      <td>0.718</td>\n",
       "    </tr>\n",
       "    <tr>\n",
       "      <th>370</th>\n",
       "      <td>IDN</td>\n",
       "      <td>Asia</td>\n",
       "      <td>Indonesia</td>\n",
       "      <td>2021-03-07</td>\n",
       "      <td>1379662.0</td>\n",
       "      <td>5826.0</td>\n",
       "      <td>6432.571</td>\n",
       "      <td>37266.0</td>\n",
       "      <td>112.0</td>\n",
       "      <td>157.143</td>\n",
       "      <td>...</td>\n",
       "      <td>11188.744</td>\n",
       "      <td>5.7</td>\n",
       "      <td>342.864</td>\n",
       "      <td>6.32</td>\n",
       "      <td>2.8</td>\n",
       "      <td>76.1</td>\n",
       "      <td>64.204</td>\n",
       "      <td>1.04</td>\n",
       "      <td>71.72</td>\n",
       "      <td>0.718</td>\n",
       "    </tr>\n",
       "    <tr>\n",
       "      <th>371</th>\n",
       "      <td>IDN</td>\n",
       "      <td>Asia</td>\n",
       "      <td>Indonesia</td>\n",
       "      <td>2021-03-08</td>\n",
       "      <td>1386556.0</td>\n",
       "      <td>6894.0</td>\n",
       "      <td>6463.143</td>\n",
       "      <td>37547.0</td>\n",
       "      <td>281.0</td>\n",
       "      <td>174.571</td>\n",
       "      <td>...</td>\n",
       "      <td>11188.744</td>\n",
       "      <td>5.7</td>\n",
       "      <td>342.864</td>\n",
       "      <td>6.32</td>\n",
       "      <td>2.8</td>\n",
       "      <td>76.1</td>\n",
       "      <td>64.204</td>\n",
       "      <td>1.04</td>\n",
       "      <td>71.72</td>\n",
       "      <td>0.718</td>\n",
       "    </tr>\n",
       "    <tr>\n",
       "      <th>372</th>\n",
       "      <td>IDN</td>\n",
       "      <td>Asia</td>\n",
       "      <td>Indonesia</td>\n",
       "      <td>2021-03-09</td>\n",
       "      <td>1392945.0</td>\n",
       "      <td>6389.0</td>\n",
       "      <td>6559.857</td>\n",
       "      <td>37757.0</td>\n",
       "      <td>210.0</td>\n",
       "      <td>177.000</td>\n",
       "      <td>...</td>\n",
       "      <td>11188.744</td>\n",
       "      <td>5.7</td>\n",
       "      <td>342.864</td>\n",
       "      <td>6.32</td>\n",
       "      <td>2.8</td>\n",
       "      <td>76.1</td>\n",
       "      <td>64.204</td>\n",
       "      <td>1.04</td>\n",
       "      <td>71.72</td>\n",
       "      <td>0.718</td>\n",
       "    </tr>\n",
       "    <tr>\n",
       "      <th>373</th>\n",
       "      <td>IDN</td>\n",
       "      <td>Asia</td>\n",
       "      <td>Indonesia</td>\n",
       "      <td>2021-03-10</td>\n",
       "      <td>1398578.0</td>\n",
       "      <td>5633.0</td>\n",
       "      <td>6392.000</td>\n",
       "      <td>37932.0</td>\n",
       "      <td>175.0</td>\n",
       "      <td>173.000</td>\n",
       "      <td>...</td>\n",
       "      <td>11188.744</td>\n",
       "      <td>5.7</td>\n",
       "      <td>342.864</td>\n",
       "      <td>6.32</td>\n",
       "      <td>2.8</td>\n",
       "      <td>76.1</td>\n",
       "      <td>64.204</td>\n",
       "      <td>1.04</td>\n",
       "      <td>71.72</td>\n",
       "      <td>0.718</td>\n",
       "    </tr>\n",
       "  </tbody>\n",
       "</table>\n",
       "<p>5 rows × 59 columns</p>\n",
       "</div>"
      ],
      "text/plain": [
       "    iso_code continent   location        date  total_cases  new_cases  \\\n",
       "369      IDN      Asia  Indonesia  2021-03-06    1373836.0     5767.0   \n",
       "370      IDN      Asia  Indonesia  2021-03-07    1379662.0     5826.0   \n",
       "371      IDN      Asia  Indonesia  2021-03-08    1386556.0     6894.0   \n",
       "372      IDN      Asia  Indonesia  2021-03-09    1392945.0     6389.0   \n",
       "373      IDN      Asia  Indonesia  2021-03-10    1398578.0     5633.0   \n",
       "\n",
       "     new_cases_smoothed  total_deaths  new_deaths  new_deaths_smoothed  ...  \\\n",
       "369            6394.571       37154.0       128.0              167.571  ...   \n",
       "370            6432.571       37266.0       112.0              157.143  ...   \n",
       "371            6463.143       37547.0       281.0              174.571  ...   \n",
       "372            6559.857       37757.0       210.0              177.000  ...   \n",
       "373            6392.000       37932.0       175.0              173.000  ...   \n",
       "\n",
       "     gdp_per_capita  extreme_poverty  cardiovasc_death_rate  \\\n",
       "369       11188.744              5.7                342.864   \n",
       "370       11188.744              5.7                342.864   \n",
       "371       11188.744              5.7                342.864   \n",
       "372       11188.744              5.7                342.864   \n",
       "373       11188.744              5.7                342.864   \n",
       "\n",
       "     diabetes_prevalence  female_smokers  male_smokers  \\\n",
       "369                 6.32             2.8          76.1   \n",
       "370                 6.32             2.8          76.1   \n",
       "371                 6.32             2.8          76.1   \n",
       "372                 6.32             2.8          76.1   \n",
       "373                 6.32             2.8          76.1   \n",
       "\n",
       "     handwashing_facilities  hospital_beds_per_thousand  life_expectancy  \\\n",
       "369                  64.204                        1.04            71.72   \n",
       "370                  64.204                        1.04            71.72   \n",
       "371                  64.204                        1.04            71.72   \n",
       "372                  64.204                        1.04            71.72   \n",
       "373                  64.204                        1.04            71.72   \n",
       "\n",
       "     human_development_index  \n",
       "369                    0.718  \n",
       "370                    0.718  \n",
       "371                    0.718  \n",
       "372                    0.718  \n",
       "373                    0.718  \n",
       "\n",
       "[5 rows x 59 columns]"
      ]
     },
     "execution_count": 9,
     "metadata": {},
     "output_type": "execute_result"
    }
   ],
   "source": [
    "df_ina.tail()"
   ]
  },
  {
   "cell_type": "code",
   "execution_count": 10,
   "id": "62f8e1fc",
   "metadata": {},
   "outputs": [
    {
     "data": {
      "text/plain": [
       "(374, 59)"
      ]
     },
     "execution_count": 10,
     "metadata": {},
     "output_type": "execute_result"
    }
   ],
   "source": [
    "df_ina.shape"
   ]
  },
  {
   "cell_type": "code",
   "execution_count": 11,
   "id": "54c076a0",
   "metadata": {},
   "outputs": [
    {
     "data": {
      "text/plain": [
       "Index(['iso_code', 'continent', 'location', 'date', 'total_cases', 'new_cases',\n",
       "       'new_cases_smoothed', 'total_deaths', 'new_deaths',\n",
       "       'new_deaths_smoothed', 'total_cases_per_million',\n",
       "       'new_cases_per_million', 'new_cases_smoothed_per_million',\n",
       "       'total_deaths_per_million', 'new_deaths_per_million',\n",
       "       'new_deaths_smoothed_per_million', 'reproduction_rate', 'icu_patients',\n",
       "       'icu_patients_per_million', 'hosp_patients',\n",
       "       'hosp_patients_per_million', 'weekly_icu_admissions',\n",
       "       'weekly_icu_admissions_per_million', 'weekly_hosp_admissions',\n",
       "       'weekly_hosp_admissions_per_million', 'new_tests', 'total_tests',\n",
       "       'total_tests_per_thousand', 'new_tests_per_thousand',\n",
       "       'new_tests_smoothed', 'new_tests_smoothed_per_thousand',\n",
       "       'positive_rate', 'tests_per_case', 'tests_units', 'total_vaccinations',\n",
       "       'people_vaccinated', 'people_fully_vaccinated', 'new_vaccinations',\n",
       "       'new_vaccinations_smoothed', 'total_vaccinations_per_hundred',\n",
       "       'people_vaccinated_per_hundred', 'people_fully_vaccinated_per_hundred',\n",
       "       'new_vaccinations_smoothed_per_million', 'stringency_index',\n",
       "       'population', 'population_density', 'median_age', 'aged_65_older',\n",
       "       'aged_70_older', 'gdp_per_capita', 'extreme_poverty',\n",
       "       'cardiovasc_death_rate', 'diabetes_prevalence', 'female_smokers',\n",
       "       'male_smokers', 'handwashing_facilities', 'hospital_beds_per_thousand',\n",
       "       'life_expectancy', 'human_development_index'],\n",
       "      dtype='object')"
      ]
     },
     "execution_count": 11,
     "metadata": {},
     "output_type": "execute_result"
    }
   ],
   "source": [
    "df_ina.columns"
   ]
  },
  {
   "cell_type": "code",
   "execution_count": 12,
   "id": "039eef6b",
   "metadata": {},
   "outputs": [],
   "source": [
    "df_ina=df_ina[['date', 'total_cases', 'new_cases', 'total_deaths', 'new_deaths']]"
   ]
  },
  {
   "cell_type": "code",
   "execution_count": 13,
   "id": "c1cbc36b",
   "metadata": {},
   "outputs": [
    {
     "data": {
      "text/html": [
       "<div>\n",
       "<style scoped>\n",
       "    .dataframe tbody tr th:only-of-type {\n",
       "        vertical-align: middle;\n",
       "    }\n",
       "\n",
       "    .dataframe tbody tr th {\n",
       "        vertical-align: top;\n",
       "    }\n",
       "\n",
       "    .dataframe thead th {\n",
       "        text-align: right;\n",
       "    }\n",
       "</style>\n",
       "<table border=\"1\" class=\"dataframe\">\n",
       "  <thead>\n",
       "    <tr style=\"text-align: right;\">\n",
       "      <th></th>\n",
       "      <th>date</th>\n",
       "      <th>total_cases</th>\n",
       "      <th>new_cases</th>\n",
       "      <th>total_deaths</th>\n",
       "      <th>new_deaths</th>\n",
       "    </tr>\n",
       "  </thead>\n",
       "  <tbody>\n",
       "    <tr>\n",
       "      <th>0</th>\n",
       "      <td>2020-03-02</td>\n",
       "      <td>2.0</td>\n",
       "      <td>2.0</td>\n",
       "      <td>NaN</td>\n",
       "      <td>NaN</td>\n",
       "    </tr>\n",
       "    <tr>\n",
       "      <th>1</th>\n",
       "      <td>2020-03-03</td>\n",
       "      <td>2.0</td>\n",
       "      <td>0.0</td>\n",
       "      <td>NaN</td>\n",
       "      <td>NaN</td>\n",
       "    </tr>\n",
       "    <tr>\n",
       "      <th>2</th>\n",
       "      <td>2020-03-04</td>\n",
       "      <td>2.0</td>\n",
       "      <td>0.0</td>\n",
       "      <td>NaN</td>\n",
       "      <td>NaN</td>\n",
       "    </tr>\n",
       "    <tr>\n",
       "      <th>3</th>\n",
       "      <td>2020-03-05</td>\n",
       "      <td>2.0</td>\n",
       "      <td>0.0</td>\n",
       "      <td>NaN</td>\n",
       "      <td>NaN</td>\n",
       "    </tr>\n",
       "    <tr>\n",
       "      <th>4</th>\n",
       "      <td>2020-03-06</td>\n",
       "      <td>4.0</td>\n",
       "      <td>2.0</td>\n",
       "      <td>NaN</td>\n",
       "      <td>NaN</td>\n",
       "    </tr>\n",
       "    <tr>\n",
       "      <th>...</th>\n",
       "      <td>...</td>\n",
       "      <td>...</td>\n",
       "      <td>...</td>\n",
       "      <td>...</td>\n",
       "      <td>...</td>\n",
       "    </tr>\n",
       "    <tr>\n",
       "      <th>369</th>\n",
       "      <td>2021-03-06</td>\n",
       "      <td>1373836.0</td>\n",
       "      <td>5767.0</td>\n",
       "      <td>37154.0</td>\n",
       "      <td>128.0</td>\n",
       "    </tr>\n",
       "    <tr>\n",
       "      <th>370</th>\n",
       "      <td>2021-03-07</td>\n",
       "      <td>1379662.0</td>\n",
       "      <td>5826.0</td>\n",
       "      <td>37266.0</td>\n",
       "      <td>112.0</td>\n",
       "    </tr>\n",
       "    <tr>\n",
       "      <th>371</th>\n",
       "      <td>2021-03-08</td>\n",
       "      <td>1386556.0</td>\n",
       "      <td>6894.0</td>\n",
       "      <td>37547.0</td>\n",
       "      <td>281.0</td>\n",
       "    </tr>\n",
       "    <tr>\n",
       "      <th>372</th>\n",
       "      <td>2021-03-09</td>\n",
       "      <td>1392945.0</td>\n",
       "      <td>6389.0</td>\n",
       "      <td>37757.0</td>\n",
       "      <td>210.0</td>\n",
       "    </tr>\n",
       "    <tr>\n",
       "      <th>373</th>\n",
       "      <td>2021-03-10</td>\n",
       "      <td>1398578.0</td>\n",
       "      <td>5633.0</td>\n",
       "      <td>37932.0</td>\n",
       "      <td>175.0</td>\n",
       "    </tr>\n",
       "  </tbody>\n",
       "</table>\n",
       "<p>374 rows × 5 columns</p>\n",
       "</div>"
      ],
      "text/plain": [
       "           date  total_cases  new_cases  total_deaths  new_deaths\n",
       "0    2020-03-02          2.0        2.0           NaN         NaN\n",
       "1    2020-03-03          2.0        0.0           NaN         NaN\n",
       "2    2020-03-04          2.0        0.0           NaN         NaN\n",
       "3    2020-03-05          2.0        0.0           NaN         NaN\n",
       "4    2020-03-06          4.0        2.0           NaN         NaN\n",
       "..          ...          ...        ...           ...         ...\n",
       "369  2021-03-06    1373836.0     5767.0       37154.0       128.0\n",
       "370  2021-03-07    1379662.0     5826.0       37266.0       112.0\n",
       "371  2021-03-08    1386556.0     6894.0       37547.0       281.0\n",
       "372  2021-03-09    1392945.0     6389.0       37757.0       210.0\n",
       "373  2021-03-10    1398578.0     5633.0       37932.0       175.0\n",
       "\n",
       "[374 rows x 5 columns]"
      ]
     },
     "execution_count": 13,
     "metadata": {},
     "output_type": "execute_result"
    }
   ],
   "source": [
    "df_ina"
   ]
  },
  {
   "cell_type": "code",
   "execution_count": 14,
   "id": "96d50624",
   "metadata": {},
   "outputs": [],
   "source": [
    "df_ina=df_ina.fillna(0)"
   ]
  },
  {
   "cell_type": "markdown",
   "id": "85ba0c7f",
   "metadata": {},
   "source": [
    "## Explorating Data and Analyzing (EDA)"
   ]
  },
  {
   "cell_type": "code",
   "execution_count": 17,
   "id": "b32699d6",
   "metadata": {},
   "outputs": [
    {
     "data": {
      "text/plain": [
       "<function matplotlib.pyplot.show(close=None, block=None)>"
      ]
     },
     "execution_count": 17,
     "metadata": {},
     "output_type": "execute_result"
    },
    {
     "data": {
      "image/png": "[encoded data removed]",
      "text/plain": [
       "<Figure size 432x288 with 1 Axes>"
      ]
     },
     "metadata": {
      "needs_background": "light"
     },
     "output_type": "display_data"
    }
   ],
   "source": [
    "df_ina['new_cases'].plot(label='New Cases')\n",
    "df_ina['new_deaths'].plot(label='New Deaths')\n",
    "plt.xlabel('Days')\n",
    "plt.ylabel('Case per Day')\n",
    "plt.legend(loc='best')\n",
    "plt.show"
   ]
  },
  {
   "cell_type": "code",
   "execution_count": 20,
   "id": "bcc80a63",
   "metadata": {},
   "outputs": [
    {
     "name": "stdout",
     "output_type": "stream",
     "text": [
      "The most positive cases on 2021-01-30\n",
      "With total 14518.0 positive cases\n"
     ]
    }
   ],
   "source": [
    "for i in range(len(df_ina)):\n",
    "    if df_ina['new_cases'].iloc[i]==df_ina['new_cases'].max():\n",
    "        print('The most positive cases on {}'.format(df_ina['date'].iloc[i]))\n",
    "        print('With total {} positive cases'.format(df_ina['new_cases'].iloc[i]))\n",
    "        break"
   ]
  },
  {
   "cell_type": "code",
   "execution_count": 22,
   "id": "0e21a473",
   "metadata": {},
   "outputs": [
    {
     "data": {
      "text/plain": [
       "<function matplotlib.pyplot.show(close=None, block=None)>"
      ]
     },
     "execution_count": 22,
     "metadata": {},
     "output_type": "execute_result"
    },
    {
     "data": {
      "image/png": "[encoded data removed]",
      "text/plain": [
       "<Figure size 432x288 with 1 Axes>"
      ]
     },
     "metadata": {
      "needs_background": "light"
     },
     "output_type": "display_data"
    }
   ],
   "source": [
    "df_ina['total_cases'].plot(label='Positive')\n",
    "df_ina['total_deaths'].plot(label='Total Deaths')\n",
    "plt.xlabel('Days')\n",
    "plt.ylabel('Total cases per Day')\n",
    "plt.legend(loc='best')\n",
    "plt.show"
   ]
  },
  {
   "cell_type": "markdown",
   "id": "cb9ec582",
   "metadata": {},
   "source": [
    "## Prediction Model"
   ]
  },
  {
   "cell_type": "markdown",
   "id": "9d0a800c",
   "metadata": {},
   "source": [
    "Original Sigmoid\n",
    "$$ sig(t)=\\frac{1}{1+e^{-t}}$$\n",
    "\n",
    "Modified\n",
    "$$ sig_m(t)=\\frac{c}{1+e^{-(t-t_0)/a}}$$\n",
    "\n",
    "c = peak value <br>\n",
    "a = curve fitting coefisien <br>\n",
    "t = total days <br>\n",
    "t0 = total cases in day 1"
   ]
  },
  {
   "cell_type": "code",
   "execution_count": 24,
   "id": "dbbca458",
   "metadata": {},
   "outputs": [
    {
     "data": {
      "text/plain": [
       "<function matplotlib.pyplot.show(close=None, block=None)>"
      ]
     },
     "execution_count": 24,
     "metadata": {},
     "output_type": "execute_result"
    },
    {
     "data": {
      "image/png": "[encoded data removed]",
      "text/plain": [
       "<Figure size 432x288 with 1 Axes>"
      ]
     },
     "metadata": {
      "needs_background": "light"
     },
     "output_type": "display_data"
    }
   ],
   "source": [
    "peak=8\n",
    "x=np.linspace(-8,8,100)\n",
    "y=peak/(1+np.exp(-x))\n",
    "plt.plot(x,y, label='Sigmoid')\n",
    "plt.grid()\n",
    "plt.show"
   ]
  },
  {
   "cell_type": "code",
   "execution_count": 33,
   "id": "04c825d3",
   "metadata": {},
   "outputs": [],
   "source": [
    "def sig_curve(t,a,t0,c):\n",
    "    return c/(1+np.exp(-(t-t0)/a))"
   ]
  },
  {
   "cell_type": "code",
   "execution_count": 34,
   "id": "d6b8e879",
   "metadata": {},
   "outputs": [],
   "source": [
    "x=list(df_ina.index)\n",
    "y=list(df_ina['total_cases'])"
   ]
  },
  {
   "cell_type": "code",
   "execution_count": 35,
   "id": "ab704d4d",
   "metadata": {},
   "outputs": [],
   "source": [
    "from scipy.optimize import curve_fit, fsolve"
   ]
  },
  {
   "cell_type": "code",
   "execution_count": 36,
   "id": "748cd891",
   "metadata": {},
   "outputs": [],
   "source": [
    "fit=curve_fit(sig_curve,x,y, method='trf')\n",
    "varA, varB=fit"
   ]
  },
  {
   "cell_type": "code",
   "execution_count": 37,
   "id": "0b04faeb",
   "metadata": {},
   "outputs": [
    {
     "data": {
      "text/plain": [
       "array([6.91350359e+01, 3.71790920e+02, 2.84763309e+06])"
      ]
     },
     "execution_count": 37,
     "metadata": {},
     "output_type": "execute_result"
    }
   ],
   "source": [
    "varA"
   ]
  },
  {
   "cell_type": "code",
   "execution_count": 38,
   "id": "484feef7",
   "metadata": {},
   "outputs": [
    {
     "data": {
      "text/plain": [
       "array([[5.78360567e-01, 2.65323964e+00, 5.86835564e+04],\n",
       "       [2.65323964e+00, 1.35936408e+01, 3.06836968e+05],\n",
       "       [5.86835564e+04, 3.06836968e+05, 6.98109548e+09]])"
      ]
     },
     "execution_count": 38,
     "metadata": {},
     "output_type": "execute_result"
    }
   ],
   "source": [
    "varB"
   ]
  },
  {
   "cell_type": "code",
   "execution_count": 39,
   "id": "2b2d796b",
   "metadata": {},
   "outputs": [],
   "source": [
    "std_er=np.zeros(len(varA))\n",
    "for i in range(len(varA)):\n",
    "    std_er[i]=np.sqrt(varB[i][i])"
   ]
  },
  {
   "cell_type": "code",
   "execution_count": 40,
   "id": "a5b9d592",
   "metadata": {},
   "outputs": [
    {
     "data": {
      "text/plain": [
       "array([7.60500208e-01, 3.68695549e+00, 8.35529502e+04])"
      ]
     },
     "execution_count": 40,
     "metadata": {},
     "output_type": "execute_result"
    }
   ],
   "source": [
    "std_er"
   ]
  },
  {
   "cell_type": "code",
   "execution_count": 41,
   "id": "293d93ae",
   "metadata": {},
   "outputs": [],
   "source": [
    "a=varA[0]+std_er[0]\n",
    "t0=varA[1]+std_er[1]\n",
    "c=varA[2]+std_er[2]"
   ]
  },
  {
   "cell_type": "code",
   "execution_count": 42,
   "id": "50b60d8c",
   "metadata": {},
   "outputs": [],
   "source": [
    "def peak(x):\n",
    "    return sig_curve(x,a,t0,c)-int(c)"
   ]
  },
  {
   "cell_type": "code",
   "execution_count": 46,
   "id": "84bc4690",
   "metadata": {},
   "outputs": [],
   "source": [
    "n_peak=int(fsolve(peak,t0))"
   ]
  },
  {
   "cell_type": "code",
   "execution_count": 47,
   "id": "fa94b1ba",
   "metadata": {},
   "outputs": [
    {
     "name": "stdout",
     "output_type": "stream",
     "text": [
      "Peak Day Covid-19: 1640\n"
     ]
    }
   ],
   "source": [
    "print('Peak Day Covid-19: '+str(n_peak))"
   ]
  },
  {
   "cell_type": "markdown",
   "id": "3c45efd6",
   "metadata": {},
   "source": [
    "## Analyze"
   ]
  },
  {
   "cell_type": "code",
   "execution_count": 48,
   "id": "c04f4b7f",
   "metadata": {},
   "outputs": [],
   "source": [
    "n_0=max(x)+1\n",
    "pred_x=list(range(n_0, n_peak))"
   ]
  },
  {
   "cell_type": "code",
   "execution_count": 49,
   "id": "07e7e286",
   "metadata": {},
   "outputs": [
    {
     "name": "stdout",
     "output_type": "stream",
     "text": [
      "We have 1266 days until the peak of Covid-19\n"
     ]
    }
   ],
   "source": [
    "print('We have {} days until the peak of Covid-19'.format(str(len(pred_x))))"
   ]
  },
  {
   "cell_type": "code",
   "execution_count": 51,
   "id": "a2a45d0c",
   "metadata": {},
   "outputs": [],
   "source": [
    "pred_y=np.zeros(len(x+pred_x))\n",
    "for i in range(n_peak):\n",
    "    pred_y[i]=sig_curve(i,a,t0,c)"
   ]
  },
  {
   "cell_type": "code",
   "execution_count": 52,
   "id": "98444ccd",
   "metadata": {},
   "outputs": [
    {
     "name": "stdout",
     "output_type": "stream",
     "text": [
      "Total cases prediction: 2931185 cases\n"
     ]
    }
   ],
   "source": [
    "print('Total cases prediction: {} cases'.format(int(pred_y[-1])))"
   ]
  },
  {
   "cell_type": "code",
   "execution_count": 53,
   "id": "7b8a5d2d",
   "metadata": {},
   "outputs": [
    {
     "data": {
      "image/png": "[encoded data removed]",
      "text/plain": [
       "<Figure size 432x288 with 1 Axes>"
      ]
     },
     "metadata": {
      "needs_background": "light"
     },
     "output_type": "display_data"
    }
   ],
   "source": [
    "plt.plot(x+pred_x, pred_y, label=\"Prediction\")\n",
    "plt.scatter(x,y, label='Real Data', s=10, color='red')\n",
    "plt.xlabel('Days')\n",
    "plt.ylabel('Total Cositive Cases')\n",
    "plt.grid()\n",
    "plt.legend(loc='best')\n",
    "plt.show()"
   ]
  },
  {
   "cell_type": "markdown",
   "id": "95e56a99",
   "metadata": {},
   "source": [
    "## Accuracy"
   ]
  },
  {
   "cell_type": "markdown",
   "id": "d352a8d0",
   "metadata": {},
   "source": [
    "## R2 Score\n",
    "$$ R^2=1-\\frac{S_{res}}{S_{tot}}$$\n",
    "$$ R^2=1-\\frac{\\Sigma (y_i-\\hat{y_i})^2}{\\Sigma (y_i-\\bar{y})^2}$$"
   ]
  },
  {
   "cell_type": "code",
   "execution_count": 60,
   "id": "cd1402a1",
   "metadata": {},
   "outputs": [],
   "source": [
    "def r2_accuracy(y_real, y_pred, x):\n",
    "    above=sum((y_real-y_pred[0:len(x)])**2)\n",
    "    below=sum((y_real-np.mean(y))**2)\n",
    "    r=1-(above/below)\n",
    "    return r"
   ]
  },
  {
   "cell_type": "code",
   "execution_count": 61,
   "id": "305ef10a",
   "metadata": {},
   "outputs": [],
   "source": [
    "acc=r2_accuracy(y,pred_y,x)"
   ]
  },
  {
   "cell_type": "code",
   "execution_count": 62,
   "id": "14868ad8",
   "metadata": {
    "scrolled": true
   },
   "outputs": [
    {
     "data": {
      "text/plain": [
       "99.74351978497839"
      ]
     },
     "execution_count": 62,
     "metadata": {},
     "output_type": "execute_result"
    }
   ],
   "source": [
    "acc*100"
   ]
  },
  {
   "cell_type": "code",
   "execution_count": 63,
   "id": "0719a9ce",
   "metadata": {},
   "outputs": [],
   "source": [
    "from datetime import datetime, timedelta"
   ]
  },
  {
   "cell_type": "code",
   "execution_count": 64,
   "id": "349b6862",
   "metadata": {},
   "outputs": [
    {
     "data": {
      "text/html": [
       "<div>\n",
       "<style scoped>\n",
       "    .dataframe tbody tr th:only-of-type {\n",
       "        vertical-align: middle;\n",
       "    }\n",
       "\n",
       "    .dataframe tbody tr th {\n",
       "        vertical-align: top;\n",
       "    }\n",
       "\n",
       "    .dataframe thead th {\n",
       "        text-align: right;\n",
       "    }\n",
       "</style>\n",
       "<table border=\"1\" class=\"dataframe\">\n",
       "  <thead>\n",
       "    <tr style=\"text-align: right;\">\n",
       "      <th></th>\n",
       "      <th>date</th>\n",
       "      <th>total_cases</th>\n",
       "      <th>new_cases</th>\n",
       "      <th>total_deaths</th>\n",
       "      <th>new_deaths</th>\n",
       "    </tr>\n",
       "  </thead>\n",
       "  <tbody>\n",
       "    <tr>\n",
       "      <th>0</th>\n",
       "      <td>2020-03-02</td>\n",
       "      <td>2.0</td>\n",
       "      <td>2.0</td>\n",
       "      <td>0.0</td>\n",
       "      <td>0.0</td>\n",
       "    </tr>\n",
       "    <tr>\n",
       "      <th>1</th>\n",
       "      <td>2020-03-03</td>\n",
       "      <td>2.0</td>\n",
       "      <td>0.0</td>\n",
       "      <td>0.0</td>\n",
       "      <td>0.0</td>\n",
       "    </tr>\n",
       "    <tr>\n",
       "      <th>2</th>\n",
       "      <td>2020-03-04</td>\n",
       "      <td>2.0</td>\n",
       "      <td>0.0</td>\n",
       "      <td>0.0</td>\n",
       "      <td>0.0</td>\n",
       "    </tr>\n",
       "    <tr>\n",
       "      <th>3</th>\n",
       "      <td>2020-03-05</td>\n",
       "      <td>2.0</td>\n",
       "      <td>0.0</td>\n",
       "      <td>0.0</td>\n",
       "      <td>0.0</td>\n",
       "    </tr>\n",
       "    <tr>\n",
       "      <th>4</th>\n",
       "      <td>2020-03-06</td>\n",
       "      <td>4.0</td>\n",
       "      <td>2.0</td>\n",
       "      <td>0.0</td>\n",
       "      <td>0.0</td>\n",
       "    </tr>\n",
       "    <tr>\n",
       "      <th>...</th>\n",
       "      <td>...</td>\n",
       "      <td>...</td>\n",
       "      <td>...</td>\n",
       "      <td>...</td>\n",
       "      <td>...</td>\n",
       "    </tr>\n",
       "    <tr>\n",
       "      <th>369</th>\n",
       "      <td>2021-03-06</td>\n",
       "      <td>1373836.0</td>\n",
       "      <td>5767.0</td>\n",
       "      <td>37154.0</td>\n",
       "      <td>128.0</td>\n",
       "    </tr>\n",
       "    <tr>\n",
       "      <th>370</th>\n",
       "      <td>2021-03-07</td>\n",
       "      <td>1379662.0</td>\n",
       "      <td>5826.0</td>\n",
       "      <td>37266.0</td>\n",
       "      <td>112.0</td>\n",
       "    </tr>\n",
       "    <tr>\n",
       "      <th>371</th>\n",
       "      <td>2021-03-08</td>\n",
       "      <td>1386556.0</td>\n",
       "      <td>6894.0</td>\n",
       "      <td>37547.0</td>\n",
       "      <td>281.0</td>\n",
       "    </tr>\n",
       "    <tr>\n",
       "      <th>372</th>\n",
       "      <td>2021-03-09</td>\n",
       "      <td>1392945.0</td>\n",
       "      <td>6389.0</td>\n",
       "      <td>37757.0</td>\n",
       "      <td>210.0</td>\n",
       "    </tr>\n",
       "    <tr>\n",
       "      <th>373</th>\n",
       "      <td>2021-03-10</td>\n",
       "      <td>1398578.0</td>\n",
       "      <td>5633.0</td>\n",
       "      <td>37932.0</td>\n",
       "      <td>175.0</td>\n",
       "    </tr>\n",
       "  </tbody>\n",
       "</table>\n",
       "<p>374 rows × 5 columns</p>\n",
       "</div>"
      ],
      "text/plain": [
       "           date  total_cases  new_cases  total_deaths  new_deaths\n",
       "0    2020-03-02          2.0        2.0           0.0         0.0\n",
       "1    2020-03-03          2.0        0.0           0.0         0.0\n",
       "2    2020-03-04          2.0        0.0           0.0         0.0\n",
       "3    2020-03-05          2.0        0.0           0.0         0.0\n",
       "4    2020-03-06          4.0        2.0           0.0         0.0\n",
       "..          ...          ...        ...           ...         ...\n",
       "369  2021-03-06    1373836.0     5767.0       37154.0       128.0\n",
       "370  2021-03-07    1379662.0     5826.0       37266.0       112.0\n",
       "371  2021-03-08    1386556.0     6894.0       37547.0       281.0\n",
       "372  2021-03-09    1392945.0     6389.0       37757.0       210.0\n",
       "373  2021-03-10    1398578.0     5633.0       37932.0       175.0\n",
       "\n",
       "[374 rows x 5 columns]"
      ]
     },
     "execution_count": 64,
     "metadata": {},
     "output_type": "execute_result"
    }
   ],
   "source": [
    "df_ina"
   ]
  },
  {
   "cell_type": "code",
   "execution_count": 65,
   "id": "898aa0cc",
   "metadata": {},
   "outputs": [
    {
     "name": "stdout",
     "output_type": "stream",
     "text": [
      "2020-03-02 00:00:00\n"
     ]
    }
   ],
   "source": [
    "date_fmt='%Y-%m-%d'\n",
    "n1=df_ina['date'][0]\n",
    "date_0=datetime.strptime(n1,date_fmt)\n",
    "print(date_0)"
   ]
  },
  {
   "cell_type": "markdown",
   "id": "4317cdad",
   "metadata": {},
   "source": [
    "## Data Visualisation"
   ]
  },
  {
   "cell_type": "code",
   "execution_count": 72,
   "id": "2295a9c7",
   "metadata": {},
   "outputs": [
    {
     "data": {
      "image/png": "[encoded data removed]",
      "text/plain": [
       "<Figure size 432x288 with 1 Axes>"
      ]
     },
     "metadata": {
      "needs_background": "light"
     },
     "output_type": "display_data"
    }
   ],
   "source": [
    "label=['Real', 'Prediction']\n",
    "value=[df_ina['total_cases'].iloc[-1],\n",
    "    pred_y[-1]]\n",
    "plt.bar(label,value)\n",
    "plt.show()"
   ]
  },
  {
   "cell_type": "code",
   "execution_count": 73,
   "id": "10e62a30",
   "metadata": {},
   "outputs": [
    {
     "data": {
      "image/png": "[encoded data removed]",
      "text/plain": [
       "<Figure size 432x288 with 1 Axes>"
      ]
     },
     "metadata": {
      "needs_background": "light"
     },
     "output_type": "display_data"
    }
   ],
   "source": [
    "label=np.array(df_ina['date'].iloc[-10:-1], dtype=str)\n",
    "value=np.array(df_ina['total_cases'].iloc[-10:-1], dtype=int)\n",
    "plt.barh(label, value)\n",
    "plt.show()"
   ]
  },
  {
   "cell_type": "code",
   "execution_count": null,
   "id": "3abb57e7",
   "metadata": {},
   "outputs": [],
   "source": []
  }
 ],
 "metadata": {
  "kernelspec": {
   "display_name": "Python 3 (ipykernel)",
   "language": "python",
   "name": "python3"
  },
  "language_info": {
   "codemirror_mode": {
    "name": "ipython",
    "version": 3
   },
   "file_extension": ".py",
   "mimetype": "text/x-python",
   "name": "python",
   "nbconvert_exporter": "python",
   "pygments_lexer": "ipython3",
   "version": "3.9.7"
  }
 },
 "nbformat": 4,
 "nbformat_minor": 5
}
